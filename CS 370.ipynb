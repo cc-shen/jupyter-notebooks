{
 "cells": [
  {
   "cell_type": "markdown",
   "metadata": {},
   "source": [
    "# CS 370"
   ]
  },
  {
   "cell_type": "markdown",
   "metadata": {},
   "source": [
    "# Lecture 1: May 2, 2018\n",
    "\n",
    "## Real Numbers\n",
    "\n",
    "$\\mathbb{R}$ is,\n",
    "\n",
    "* Infinite in _extent_: there exists $x$ such that $|x|$ is arbitrarily large\n",
    "* Infinite in density: any interval $a \\leq x \\leq b$ contains infinitely many numbers\n",
    "\n",
    "### Floating Point Systems\n",
    "\n",
    "An _approximate_ representation of real numbers using a **finite number of bits**.\n",
    "\n",
    "#### Numerical Errors: Toy Example\n",
    "\n",
    "Consider the sum,\n",
    "\n",
    "$$12 + \\sum_{i=1}{100}0.01$$\n",
    "\n",
    "True answer: 13.\n",
    "\n",
    "Now, performance the sum one addition at a time, retaining two digits of accuracy at each step,\n",
    "$$((12 + 0.01) + 0.01) + 0.01) + 0.01) + \\cdots$$\n",
    "What is the sum after each step? (12) And at the end? (12)\n",
    "\n",
    "#### Numerical Errors: Taylor series example\n",
    "\n",
    "Say we want to evaluate $e^{-5.5}$.  \n",
    "Consider the following appraoch, recall\n",
    "\n",
    "#### What went wrong?\n",
    "\n",
    "Floating point numbers often don't _quite_ behave like true real numbers, which can lead to _subtle_ and large errors.\n",
    "\n",
    "#### Infinite Expansion of Real Numbers\n",
    "\n"
   ]
  }
 ],
 "metadata": {
  "kernelspec": {
   "display_name": "Python [conda env:anaconda3]",
   "language": "python",
   "name": "conda-env-anaconda3-py"
  },
  "language_info": {
   "codemirror_mode": {
    "name": "ipython",
    "version": 3
   },
   "file_extension": ".py",
   "mimetype": "text/x-python",
   "name": "python",
   "nbconvert_exporter": "python",
   "pygments_lexer": "ipython3",
   "version": "3.6.4"
  }
 },
 "nbformat": 4,
 "nbformat_minor": 2
}
