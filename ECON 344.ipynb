{
 "cells": [
  {
   "cell_type": "markdown",
   "metadata": {},
   "source": [
    "# ECON 344"
   ]
  },
  {
   "cell_type": "markdown",
   "metadata": {},
   "source": [
    "#### Group Assignment\n",
    "\n",
    "Situation analysis - May 23  \n",
    "Marketing objectives - June 6  \n",
    "Marketing strategies - June 27  \n",
    "Written component - July 11  \n",
    "Presentation dates:\n",
    "\n",
    "* Set A: July 11\n",
    "* Set B: July 18\n",
    "* Set C: July 25\n",
    "\n",
    "#### Tests\n",
    "\n",
    "Test 1 - June 6  \n",
    "Test 2 - July 4"
   ]
  },
  {
   "cell_type": "markdown",
   "metadata": {},
   "source": [
    "# Lecture 1: May 2, 2018\n",
    "\n",
    "## What marketing is and what it is not\n",
    "\n",
    "Definition from American Marketing Association:  \n",
    "> Marketing is an organizational function and a set of processes for _creating_, _communicating_, and _delivering value_ to customers and for managing customer relationships in a way that benefit the organizations stackholders\n",
    "\n",
    "**Requirements for marketing to occur** (4 factors):\n",
    "\n",
    "* Two or more parties with unsatisfied needs\n",
    "* Desire and ability to satisfy these needs\n",
    "* A way for the parties to communicate\n",
    "* Something to exchange\n",
    "\n",
    "**Breadth and depth of marketing**:\n",
    "* What is a market\n",
    "* Who markets\n",
    "* What is marketed \n",
    "    * Social marketing\n",
    "* Who buys and uses what is marketed\n",
    "    * Ultimate customers\n",
    "    * Organizational buyers\n",
    "* Who benefits\n",
    "\n",
    "The diverse factors influencing marketing activities\n",
    "\n",
    "An organization's marketing department relates to many people, gropus, and forces:\n",
    "![An organization's marketing department relates to many people, groups, and forces](Assets/marketing-1.1.png)\n",
    "\n",
    "## How marketing discovers and satisfies consumer needs\n",
    "\n",
    "* Discovering consumer needs\n",
    "    * Consumer needs and consumer wants\n",
    "\n",
    "Marketing's _first_ task: discovering consumer needs!\n",
    "> Potential consumers: The market $\\rightarrow$ Information about needs $\\rightarrow$ (Organization's marketing department) Discover consumer needs\n",
    "\n",
    "Satisfying consumer needs.\n",
    "\n",
    "* _Target market_\n",
    "\n",
    "The Four Ps: Controllable _Marketing Mix_ Factors:\n",
    "\n",
    "* Product\n",
    "* Price\n",
    "* Promotion\n",
    "* Place\n",
    "\n",
    "The Uncontrollable, _Environmental Factors_.\n",
    "\n",
    "What about... high-technology or new-to-world products?\n",
    "\n",
    "Marketing's _second_ task: satisfying consumer needs:\n",
    "![Marketing second task](Assets/marketing-1.3.png)\n",
    "\n",
    "## The marketing program\n",
    "\n",
    "Ideas for serving consumer needs must be translated into a tangible **marketing program**,\n",
    "> a plan that integrates the marketing mix elements to provide a product, service, or idea to consumers\n",
    "\n",
    "**Six different orientations in the history of N.A. business**:\n",
    "\n",
    "* Production era: 'til 1930\n",
    "* Sales era: 1920 - 1960\n",
    "* Marketing concept era: 1950 - 1990\n",
    "* Market orientation era: since 1990\n",
    "* Customer experience management era: since 2000\n",
    "* Social media marketing era: since 2005\n",
    "\n",
    "## How marketing become so important\n",
    "\n",
    "Ethics and social responsibility:\n",
    "\n",
    "* Balancing the interests of different groups\n",
    "\n",
    "Ethics\n",
    "\n",
    "Social responsibility:\n",
    "\n",
    "* Social marketing concept\n",
    "* Macromarketing\n",
    "* Micromarketing"
   ]
  },
  {
   "cell_type": "markdown",
   "metadata": {},
   "source": [
    "# Lecture 2:"
   ]
  }
 ],
 "metadata": {
  "kernelspec": {
   "display_name": "Python [conda env:anaconda3]",
   "language": "python",
   "name": "conda-env-anaconda3-py"
  },
  "language_info": {
   "codemirror_mode": {
    "name": "ipython",
    "version": 3
   },
   "file_extension": ".py",
   "mimetype": "text/x-python",
   "name": "python",
   "nbconvert_exporter": "python",
   "pygments_lexer": "ipython3",
   "version": "3.6.4"
  }
 },
 "nbformat": 4,
 "nbformat_minor": 2
}
