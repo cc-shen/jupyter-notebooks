{
 "cells": [
  {
   "cell_type": "markdown",
   "metadata": {},
   "source": [
    "# CS 490"
   ]
  },
  {
   "cell_type": "markdown",
   "metadata": {},
   "source": [
    "# Chapter 1, Introduction\n",
    "\n",
    "## Open Case: PenPal\n",
    "\n",
    "Propse a solution to resolve their decreasing sales problem.  \n",
    "How is the problem related to IT and MIS?  \n",
    "Is building a sales system the best solution?\n",
    "\n",
    "### How to argue?\n",
    "\n",
    "1. Current system out-og-date\n",
    "2. Need more info about sales history\n",
    "3. Current system fails to give sales people enough knowledge to sell effectively\n",
    "4. Current system is weak on Customer Relations Management (CRM)\n",
    "5. _Before the meeting_ - is building a new sales system really the best solution to the business problem?\n",
    "\n",
    "## Success of a MIS\n",
    "\n",
    "### Commercial Success\n",
    "\n",
    "* Interdisciplinary\n",
    "* The right market\n",
    "    * BA (Business Analytics) and marketing\n",
    "* Convince management/client to fund, buyer to buy, user to use\n",
    "    * BA and other business tools\n",
    "* Technical success\n",
    "* Integration with existing business model\n",
    "    * Strategic alignment and change management\n",
    "* Use it properly\n",
    "    * Computer security\n",
    "* Use it intelligently (system outcome complies with business goal)\n",
    "    * Automation and BI (Business Intelligence)\n",
    "\n",
    "### Technical Success\n",
    "\n",
    "* Core of CS\n",
    "* Getting the right requirements and spec\n",
    "    * System analysis and BA\n",
    "* Outcome complies with requirements and spec\n",
    "    * Software engineering\n",
    "    * Other CS tools for performance"
   ]
  },
  {
   "cell_type": "markdown",
   "metadata": {},
   "source": [
    "# Instructor Tech Talk - May 3, 2018\n",
    "\n"
   ]
  },
  {
   "cell_type": "markdown",
   "metadata": {},
   "source": [
    "# Chapter 2, Software Architecture\n",
    "\n",
    "## Software Architecture\n",
    "\n",
    "> Process of designing the global organization of a software system including:\n",
    "> * Dividing software into subsystems\n",
    "> * Deciding how these will intereact\n",
    "> * Determining their interfaces\n",
    "\n",
    "### Architecture vs. Infrastructure\n",
    "\n",
    "Architecture (conceptual):\n",
    "\n",
    "* Implementation independent, major components and their relationships\n",
    "\n",
    "Infrastructure (physical):\n",
    "\n",
    "* Implementation dependent, the hardware, software, services that make up the components"
   ]
  }
 ],
 "metadata": {
  "kernelspec": {
   "display_name": "Python [conda env:anaconda3]",
   "language": "python",
   "name": "conda-env-anaconda3-py"
  },
  "language_info": {
   "codemirror_mode": {
    "name": "ipython",
    "version": 3
   },
   "file_extension": ".py",
   "mimetype": "text/x-python",
   "name": "python",
   "nbconvert_exporter": "python",
   "pygments_lexer": "ipython3",
   "version": "3.6.4"
  }
 },
 "nbformat": 4,
 "nbformat_minor": 2
}
