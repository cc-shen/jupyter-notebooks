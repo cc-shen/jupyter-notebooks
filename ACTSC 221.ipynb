{
 "cells": [
  {
   "cell_type": "markdown",
   "metadata": {},
   "source": [
    "# ACTSC 221"
   ]
  },
  {
   "cell_type": "markdown",
   "metadata": {},
   "source": [
    "# Lecture 1: May 2, 2018\n",
    "\n",
    "## Interest\n",
    "\n",
    "Amount funciton $A(t)$ where $t \\geq 0$ is the time.  \n",
    "Amount we invest = **Principal**, $[A(0)]$ -> the amount at $t = 0$.\n",
    "\n",
    "Suppose first period, we want the interest, then $I_{1} = A(1) - A(0)$.  \n",
    "In generally, for the interest in the $n$-th period, it's $A_{n} = A(n) - A(n-1)$.\n",
    "\n",
    "## Rates of Interests\n",
    "\n",
    "**Defn.**  \n",
    "The **effective rate of interest** is the amount of interest earned during period divided by the initial principal amount, assuming the interest is received at the end of the period.  \n",
    "The rate at period $n$ is determined by\n",
    "$$i_{n} = \\frac{I_{n}}{A(n-1)} = \\frac{\\text{Interest}}{\\text{Amount at the Start}}$$\n",
    "\n",
    "## Simple Interest\n",
    "\n",
    "If the interest is earned at a _linear_ function of time, this is **simple interest**.\n",
    "\n",
    "Interest earned after $t$ years is\n",
    "$$I = P \\times r \\times t$$\n",
    "where,\n",
    "\n",
    "* $P$ is the initial principal\n",
    "* $r$ is the _annual_ rate of simple interest\n",
    "* $t$ is the time of in years\n",
    "\n",
    "The accumulated value $A(t)$ of $P$ (also called the _future_ value, or the maturity value of $P$), is\n",
    "$$A(t) = P + I = P \\times (1 + r \\times t)$$\n",
    "\n",
    "So, the amount function of an initial principal $P$ invested for $t$ periods under a period interest rate of $r$ is given by\n",
    "$$A(t) = P(1 + rt)$$\n",
    "\n",
    "### Example\n",
    "\n",
    "Loan of \\$10000. 5\\% simple interest.  \n",
    "Then the amount function as a function of time $t$ is\n",
    "\\begin{align*}\n",
    "A(t) &= P(1 + rt) \\\\\n",
    "&= 10000(1 + 0.05t)\n",
    "\\end{align*}\n",
    "\n",
    "## Day Count Convention\n",
    "\n",
    "If time is given in actual number of days, there are two conventions to assess the actual interest charge, so called **exact interest** and **ordinary interest**.\n",
    "\n",
    "In exact interest, we assume 365 days (this is the Canadian method), thus\n",
    "$$I = Pr \\times \\$$"
   ]
  }
 ],
 "metadata": {
  "kernelspec": {
   "display_name": "Python [conda env:anaconda3]",
   "language": "python",
   "name": "conda-env-anaconda3-py"
  },
  "language_info": {
   "codemirror_mode": {
    "name": "ipython",
    "version": 3
   },
   "file_extension": ".py",
   "mimetype": "text/x-python",
   "name": "python",
   "nbconvert_exporter": "python",
   "pygments_lexer": "ipython3",
   "version": "3.6.4"
  }
 },
 "nbformat": 4,
 "nbformat_minor": 2
}
